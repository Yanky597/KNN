{
 "cells": [
  {
   "cell_type": "code",
   "execution_count": 7,
   "metadata": {
    "collapsed": true,
    "pycharm": {
     "name": "#%%\n"
    }
   },
   "outputs": [],
   "source": [
    "from sklearn import datasets\n",
    "from sklearn.model_selection import train_test_split\n",
    "from KNN import KNN\n",
    "from sklearn.neighbors import KNeighborsClassifier"
   ]
  },
  {
   "cell_type": "code",
   "execution_count": 9,
   "outputs": [
    {
     "name": "stdout",
     "output_type": "stream",
     "text": [
      "Prediction =  2\n",
      "Is the prediction correct =  Yes\n",
      "My Score =  0.9\n",
      "Sklearn Score =  1.0\n"
     ]
    }
   ],
   "source": [
    "iris = datasets.load_iris()\n",
    "\n",
    "X = iris['data']\n",
    "y = iris['target']\n",
    "\n",
    "# split the data 2 ways: training(80%), testing(20%)\n",
    "X_train, X_test, y_train, y_test = train_test_split(\n",
    "    X, y, train_size=.8, random_state=0)\n",
    "\n",
    "knn = KNN(7)\n",
    "knn.fit(X_train, y_train)\n",
    "\n",
    "print('Prediction = ', knn.predict(X_test[0]))\n",
    "print('Is the prediction correct = ', 'Yes' if knn.predict(X_test[0]) == y_test[0] else 'No')\n",
    "print('My Score = ', knn.score(X_test, y_test))\n",
    "sklearnKNN = KNeighborsClassifier(n_neighbors=3, metric='manhattan')\n",
    "sklearnKNN.fit(X_train, y_train)\n",
    "print('Sklearn Score = ', sklearnKNN.score(X_test, y_test))"
   ],
   "metadata": {
    "collapsed": false,
    "pycharm": {
     "name": "#%%\n"
    }
   }
  }
 ],
 "metadata": {
  "kernelspec": {
   "display_name": "Python 3.9.0 64-bit",
   "language": "python",
   "name": "python3"
  },
  "language_info": {
   "codemirror_mode": {
    "name": "ipython",
    "version": 3
   },
   "file_extension": ".py",
   "mimetype": "text/x-python",
   "name": "python",
   "nbconvert_exporter": "python",
   "pygments_lexer": "ipython3",
   "version": "3.9.0"
  },
  "vscode": {
   "interpreter": {
    "hash": "aee8b7b246df8f9039afb4144a1f6fd8d2ca17a180786b69acc140d282b71a49"
   }
  }
 },
 "nbformat": 4,
 "nbformat_minor": 0
}